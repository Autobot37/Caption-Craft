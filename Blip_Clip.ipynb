{
  "cells": [
    {
      "cell_type": "markdown",
      "metadata": {
        "id": "7ZKVZNVk2lIM"
      },
      "source": [
        "### **TRANSFORMERS**"
      ]
    },
    {
      "cell_type": "code",
      "execution_count": null,
      "metadata": {
        "id": "uXPio1cpzmKg"
      },
      "outputs": [],
      "source": [
        "!pip install transformers --quiet"
      ]
    },
    {
      "cell_type": "code",
      "execution_count": null,
      "metadata": {
        "id": "QYExKf8PFnGK"
      },
      "outputs": [],
      "source": [
        "!pip install clip --quiet"
      ]
    },
    {
      "cell_type": "code",
      "execution_count": null,
      "metadata": {},
      "outputs": [],
      "source": [
        "import gdown\n",
        "\n",
        "MODEL_WEIGHTS = {\n",
        "    \"L\": \"1Gh32arzhW06C1ZJyzcJSSfdJDi3RgWoG\",\n",
        "    \"S\": \"1pSQruQyg8KJq6VmzhMLFbT_VaHJMdlWF\",\n",
        "}\n",
        "\n",
        "\n",
        "def download_model(checkpoint_fpath, model_size=\"S\"):\n",
        "    \"\"\"\n",
        "    Downloads weights from Google Drive.\n",
        "    \"\"\"\n",
        "\n",
        "    download_id = MODEL_WEIGHTS[model_size.strip().upper()]\n",
        "\n",
        "    gdown.download(\n",
        "        f\"https://drive.google.com/uc?id={download_id}\", checkpoint_fpath, quiet=False\n",
        "    )\n",
        "download_model(\"/content/drive/MyDrive/Drivebit\")"
      ]
    },
    {
      "cell_type": "code",
      "execution_count": null,
      "metadata": {},
      "outputs": [],
      "source": [
        "!export KAGGLE_USERNAME=iamtars\n",
        "!export KAGGLE_KEY=e10e91505fe6ab8a093cc0f348efb35e\n",
        "! mkdir ~/.kaggle\n",
        "! cp kaggle.json ~/.kaggle/\n",
        "! chmod 600 ~/.kaggle/kaggle.json\n",
        "!kaggle datasets download -d adityajn105/flickr8k\n",
        "import subprocess\n",
        "zip_file_path = \"/content/flickr8k.zip\"\n",
        "extract_path = \"/content/flickr8k\"\n",
        "subprocess.run([\"unzip\", zip_file_path, \"-d\", extract_path])"
      ]
    },
    {
      "cell_type": "code",
      "execution_count": null,
      "metadata": {
        "id": "S0rpDf8iI3DX"
      },
      "outputs": [],
      "source": [
        "\n",
        "from PIL import Image\n",
        "from transformers import CLIPImageProcessor, CLIPModel\n",
        "\n",
        "# Load the CLIP model and processor#openai/clip-vit-base-patch32\n",
        "clip_model = CLIPModel.from_pretrained(\"openai/clip-vit-base-patch32\").vision_model\n",
        "clip_processor = CLIPImageProcessor.from_pretrained(\"openai/clip-vit-base-patch32\")\n",
        "\n",
        "# Load your image\n",
        "image_path = \"/content/sample_image.jpeg\"  # Replace with the path to your image\n",
        "image = Image.open(image_path)\n",
        "\n",
        "# Preprocess the image\n",
        "inputs = clip_processor(text=None, images=image, return_tensors=\"pt\")\n",
        "\n"
      ]
    },
    {
      "cell_type": "code",
      "execution_count": null,
      "metadata": {
        "id": "WJ9gBW06KjBt"
      },
      "outputs": [],
      "source": [
        "# Encode the image\n",
        "with torch.no_grad():\n",
        "    image_features = clip_model(**inputs).pooler_output\n",
        "\n",
        "\n",
        "# The `image_features` now contains the encoded image as a tensor\n",
        "\n"
      ]
    },
    {
      "cell_type": "code",
      "execution_count": null,
      "metadata": {
        "id": "446beh18oo9J"
      },
      "outputs": [],
      "source": [
        "ind = torch.argmax(image_features,dim=-1)"
      ]
    },
    {
      "cell_type": "code",
      "execution_count": null,
      "metadata": {},
      "outputs": [],
      "source": [
        "# Initialize the GPT-2 tokenizer and model\n",
        "gpt2_tokenizer = GPT2Tokenizer.from_pretrained('gpt2')\n",
        "gpt2_model = GPT2LMHeadModel.from_pretrained('gpt2')\n",
        "\n"
      ]
    },
    {
      "cell_type": "code",
      "execution_count": null,
      "metadata": {},
      "outputs": [],
      "source": [
        "# Generate text based on the encoded tokens\n",
        "input_ids = ind.unsqueeze(0)  # Add batch dimension\n"
      ]
    },
    {
      "cell_type": "code",
      "execution_count": null,
      "metadata": {},
      "outputs": [],
      "source": [
        "with torch.no_grad():\n",
        "    generated_output = gpt2_model.generate(input_ids, max_length=50, num_return_sequences=1)\n",
        "\n",
        "# Decode the output\n",
        "generated_text = gpt2_tokenizer.decode(generated_output[0], skip_special_tokens=True)\n",
        "\n",
        "print(\"Generated text:\")\n",
        "print(generated_text)\n"
      ]
    },
    {
      "cell_type": "code",
      "execution_count": null,
      "metadata": {},
      "outputs": [],
      "source": [
        "gpt2_model(inputs_embeds=torch.randn((1,768))).logits.shape"
      ]
    }
  ],
  "metadata": {
    "colab": {
      "provenance": []
    },
    "kernelspec": {
      "display_name": "Python 3",
      "name": "python3"
    },
    "language_info": {
      "name": "python"
    }
  },
  "nbformat": 4,
  "nbformat_minor": 0
}
