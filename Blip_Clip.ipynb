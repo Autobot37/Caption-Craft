{
  "cells": [
    {
      "cell_type": "markdown",
      "metadata": {
        "id": "7ZKVZNVk2lIM"
      },
      "source": [
        "### **TRANSFORMERS**"
      ]
    },
    {
      "cell_type": "code",
      "execution_count": null,
      "metadata": {
        "id": "uXPio1cpzmKg"
      },
      "outputs": [],
      "source": [
        "!pip install transformers --quiet"
      ]
    },
    {
      "cell_type": "code",
      "execution_count": null,
      "metadata": {
        "id": "QYExKf8PFnGK"
      },
      "outputs": [],
      "source": [
        "!pip install clip --quiet"
      ]
    },
    {
      "cell_type": "code",
      "execution_count": null,
      "metadata": {
        "id": "S0rpDf8iI3DX"
      },
      "outputs": [],
      "source": [
        "\n",
        "from PIL import Image\n",
        "from transformers import CLIPImageProcessor, CLIPModel\n",
        "\n",
        "# Load the CLIP model and processor#openai/clip-vit-base-patch32\n",
        "clip_model = CLIPModel.from_pretrained(\"openai/clip-vit-base-patch32\").vision_model\n",
        "clip_processor = CLIPImageProcessor.from_pretrained(\"openai/clip-vit-base-patch32\")\n",
        "\n",
        "# Load your image\n",
        "image_path = \"/content/sample_image.jpeg\"  # Replace with the path to your image\n",
        "image = Image.open(image_path)\n",
        "\n",
        "# Preprocess the image\n",
        "inputs = clip_processor(text=None, images=image, return_tensors=\"pt\")\n",
        "\n"
      ]
    },
    {
      "cell_type": "code",
      "execution_count": null,
      "metadata": {
        "id": "WJ9gBW06KjBt"
      },
      "outputs": [],
      "source": [
        "# Encode the image\n",
        "with torch.no_grad():\n",
        "    image_features = clip_model(**inputs).pooler_output\n",
        "\n",
        "\n",
        "# The `image_features` now contains the encoded image as a tensor\n",
        "\n"
      ]
    },
    {
      "cell_type": "code",
      "execution_count": null,
      "metadata": {
        "id": "446beh18oo9J"
      },
      "outputs": [],
      "source": [
        "ind = torch.argmax(image_features,dim=-1)"
      ]
    }
  ],
  "metadata": {
    "colab": {
      "provenance": []
    },
    "kernelspec": {
      "display_name": "Python 3",
      "name": "python3"
    },
    "language_info": {
      "name": "python"
    }
  },
  "nbformat": 4,
  "nbformat_minor": 0
}